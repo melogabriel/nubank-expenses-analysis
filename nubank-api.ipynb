{
 "cells": [
  {
   "cell_type": "code",
   "execution_count": null,
   "metadata": {},
   "outputs": [
    {
     "ename": "",
     "evalue": "",
     "output_type": "error",
     "traceback": [
      "\u001b[1;31mRunning cells with 'Lab03 (Python 3.6.8)' requires the ipykernel package.\n",
      "\u001b[1;31mRun the following command to install 'ipykernel' into the Python environment. \n",
      "\u001b[1;31mCommand: 'conda install -n Lab03 ipykernel --update-deps --force-reinstall'"
     ]
    }
   ],
   "source": [
    "# Importa a biblioteca pynubank\n",
    "from pynubank import Nubank"
   ]
  },
  {
   "cell_type": "code",
   "execution_count": 14,
   "metadata": {},
   "outputs": [
    {
     "ename": "NuRequestException",
     "evalue": "The request made failed with HTTP status code 403",
     "output_type": "error",
     "traceback": [
      "\u001b[0;31m---------------------------------------------------------------------------\u001b[0m",
      "\u001b[0;31mNuRequestException\u001b[0m                        Traceback (most recent call last)",
      "Cell \u001b[0;32mIn[14], line 4\u001b[0m\n\u001b[1;32m      1\u001b[0m \u001b[38;5;66;03m# Solicita o qrcode para a autenticação\u001b[39;00m\n\u001b[1;32m      2\u001b[0m \u001b[38;5;66;03m# Você precisa escanear pelo o seu app do celular\u001b[39;00m\n\u001b[1;32m      3\u001b[0m \u001b[38;5;66;03m# Esse menu fica em NU > Perfil > Acesso pelo site\u001b[39;00m\n\u001b[0;32m----> 4\u001b[0m nu \u001b[38;5;241m=\u001b[39m Nubank()\n\u001b[1;32m      5\u001b[0m uuid, qr_code \u001b[38;5;241m=\u001b[39m nu\u001b[38;5;241m.\u001b[39mget_qr_code()\n\u001b[1;32m      6\u001b[0m qr_code\u001b[38;5;241m.\u001b[39mprint_ascii(invert\u001b[38;5;241m=\u001b[39m\u001b[38;5;28;01mTrue\u001b[39;00m)\n",
      "File \u001b[0;32m/Applications/anaconda3/lib/python3.12/site-packages/pynubank/nubank.py:42\u001b[0m, in \u001b[0;36mNubank.__init__\u001b[0;34m(self, client)\u001b[0m\n\u001b[1;32m     39\u001b[0m     client \u001b[38;5;241m=\u001b[39m HttpClient()\n\u001b[1;32m     41\u001b[0m \u001b[38;5;28mself\u001b[39m\u001b[38;5;241m.\u001b[39m_client \u001b[38;5;241m=\u001b[39m client\n\u001b[0;32m---> 42\u001b[0m \u001b[38;5;28mself\u001b[39m\u001b[38;5;241m.\u001b[39m_discovery \u001b[38;5;241m=\u001b[39m Discovery(\u001b[38;5;28mself\u001b[39m\u001b[38;5;241m.\u001b[39m_client)\n\u001b[1;32m     43\u001b[0m \u001b[38;5;28mself\u001b[39m\u001b[38;5;241m.\u001b[39m_feed_url \u001b[38;5;241m=\u001b[39m \u001b[38;5;28;01mNone\u001b[39;00m\n\u001b[1;32m     44\u001b[0m \u001b[38;5;28mself\u001b[39m\u001b[38;5;241m.\u001b[39m_query_url \u001b[38;5;241m=\u001b[39m \u001b[38;5;28;01mNone\u001b[39;00m\n",
      "File \u001b[0;32m/Applications/anaconda3/lib/python3.12/site-packages/pynubank/utils/discovery.py:14\u001b[0m, in \u001b[0;36mDiscovery.__init__\u001b[0;34m(self, client)\u001b[0m\n\u001b[1;32m     11\u001b[0m \u001b[38;5;28mself\u001b[39m\u001b[38;5;241m.\u001b[39mproxy_list_url \u001b[38;5;241m=\u001b[39m {}\n\u001b[1;32m     12\u001b[0m \u001b[38;5;28mself\u001b[39m\u001b[38;5;241m.\u001b[39mproxy_list_app_url \u001b[38;5;241m=\u001b[39m {}\n\u001b[0;32m---> 14\u001b[0m \u001b[38;5;28mself\u001b[39m\u001b[38;5;241m.\u001b[39m_update_proxy_urls()\n",
      "File \u001b[0;32m/Applications/anaconda3/lib/python3.12/site-packages/pynubank/utils/discovery.py:23\u001b[0m, in \u001b[0;36mDiscovery._update_proxy_urls\u001b[0;34m(self)\u001b[0m\n\u001b[1;32m     22\u001b[0m \u001b[38;5;28;01mdef\u001b[39;00m \u001b[38;5;21m_update_proxy_urls\u001b[39m(\u001b[38;5;28mself\u001b[39m):\n\u001b[0;32m---> 23\u001b[0m     \u001b[38;5;28mself\u001b[39m\u001b[38;5;241m.\u001b[39mproxy_list_url \u001b[38;5;241m=\u001b[39m \u001b[38;5;28mself\u001b[39m\u001b[38;5;241m.\u001b[39mclient\u001b[38;5;241m.\u001b[39mget(DISCOVERY_URL)\n\u001b[1;32m     24\u001b[0m     \u001b[38;5;28mself\u001b[39m\u001b[38;5;241m.\u001b[39mproxy_list_app_url \u001b[38;5;241m=\u001b[39m \u001b[38;5;28mself\u001b[39m\u001b[38;5;241m.\u001b[39mclient\u001b[38;5;241m.\u001b[39mget(DISCOVERY_APP_URL)\n",
      "File \u001b[0;32m/Applications/anaconda3/lib/python3.12/site-packages/pynubank/utils/http.py:46\u001b[0m, in \u001b[0;36mHttpClient.get\u001b[0;34m(self, url)\u001b[0m\n\u001b[1;32m     45\u001b[0m \u001b[38;5;28;01mdef\u001b[39;00m \u001b[38;5;21mget\u001b[39m(\u001b[38;5;28mself\u001b[39m, url: \u001b[38;5;28mstr\u001b[39m) \u001b[38;5;241m-\u001b[39m\u001b[38;5;241m>\u001b[39m \u001b[38;5;28mdict\u001b[39m:\n\u001b[0;32m---> 46\u001b[0m     \u001b[38;5;28;01mreturn\u001b[39;00m \u001b[38;5;28mself\u001b[39m\u001b[38;5;241m.\u001b[39m_handle_response(\u001b[38;5;28mself\u001b[39m\u001b[38;5;241m.\u001b[39mraw_get(url))\n",
      "File \u001b[0;32m/Applications/anaconda3/lib/python3.12/site-packages/pynubank/utils/http.py:35\u001b[0m, in \u001b[0;36mHttpClient._handle_response\u001b[0;34m(self, response)\u001b[0m\n\u001b[1;32m     33\u001b[0m \u001b[38;5;28;01mdef\u001b[39;00m \u001b[38;5;21m_handle_response\u001b[39m(\u001b[38;5;28mself\u001b[39m, response: Response) \u001b[38;5;241m-\u001b[39m\u001b[38;5;241m>\u001b[39m \u001b[38;5;28mdict\u001b[39m:\n\u001b[1;32m     34\u001b[0m     \u001b[38;5;28;01mif\u001b[39;00m response\u001b[38;5;241m.\u001b[39mstatus_code \u001b[38;5;241m!=\u001b[39m \u001b[38;5;241m200\u001b[39m:\n\u001b[0;32m---> 35\u001b[0m         \u001b[38;5;28;01mraise\u001b[39;00m NuRequestException(response)\n\u001b[1;32m     37\u001b[0m     \u001b[38;5;28;01mreturn\u001b[39;00m response\u001b[38;5;241m.\u001b[39mjson()\n",
      "\u001b[0;31mNuRequestException\u001b[0m: The request made failed with HTTP status code 403"
     ]
    }
   ],
   "source": [
    "# Solicita o qrcode para a autenticação\n",
    "# Você precisa escanear pelo o seu app do celular\n",
    "# Esse menu fica em NU > Perfil > Acesso pelo site\n",
    "nu = Nubank()\n",
    "uuid, qr_code = nu.get_qr_code()\n",
    "qr_code.print_ascii(invert=True)\n",
    "input('Após escanear o QRCode pressione enter para continuar')\n",
    "# Somente após escanear o QRCode você pode chamar a linha abaixo"
   ]
  },
  {
   "cell_type": "code",
   "execution_count": 8,
   "metadata": {},
   "outputs": [
    {
     "ename": "NameError",
     "evalue": "name 'nu' is not defined",
     "output_type": "error",
     "traceback": [
      "\u001b[0;31m---------------------------------------------------------------------------\u001b[0m",
      "\u001b[0;31mNameError\u001b[0m                                 Traceback (most recent call last)",
      "Cell \u001b[0;32mIn[8], line 1\u001b[0m\n\u001b[0;32m----> 1\u001b[0m nu\u001b[38;5;241m.\u001b[39mauthenticate_with_qr_code(\u001b[38;5;124m'\u001b[39m\u001b[38;5;124m123456789\u001b[39m\u001b[38;5;124m'\u001b[39m, \u001b[38;5;124m'\u001b[39m\u001b[38;5;124msenha\u001b[39m\u001b[38;5;124m'\u001b[39m, uuid)\n\u001b[1;32m      2\u001b[0m \u001b[38;5;28mprint\u001b[39m(nu\u001b[38;5;241m.\u001b[39mget_account_balance())\n",
      "\u001b[0;31mNameError\u001b[0m: name 'nu' is not defined"
     ]
    }
   ],
   "source": [
    "nu.authenticate_with_qr_code('123456789', 'senha', uuid)\n",
    "print(nu.get_account_balance())"
   ]
  }
 ],
 "metadata": {
  "kernelspec": {
   "display_name": "Lab03",
   "language": "python",
   "name": "python3"
  },
  "language_info": {
   "codemirror_mode": {
    "name": "ipython",
    "version": 3
   },
   "file_extension": ".py",
   "mimetype": "text/x-python",
   "name": "python",
   "nbconvert_exporter": "python",
   "pygments_lexer": "ipython3",
   "version": "3.6.8"
  }
 },
 "nbformat": 4,
 "nbformat_minor": 2
}
