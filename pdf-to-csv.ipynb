{
 "cells": [
  {
   "cell_type": "code",
   "execution_count": null,
   "metadata": {},
   "outputs": [],
   "source": [
    "# Instale os pacotes necessários antes de executar o código\n",
    "pip install openai \n",
    "pip install pdfplumber \n",
    "pip install pandas\n"
   ]
  },
  {
   "cell_type": "code",
   "execution_count": null,
   "metadata": {},
   "outputs": [],
   "source": [
    "import openai\n",
    "import pdfplumber\n",
    "import pandas as pd\n",
    "import re\n",
    "\n",
    "# Configuração da chave da API do OpenAI (substitua pela sua chave)\n",
    "openai.api_key = \"your-api-key\""
   ]
  },
  {
   "cell_type": "code",
   "execution_count": null,
   "metadata": {},
   "outputs": [],
   "source": [
    "# Dicionário de categorias fixo\n",
    "icone_para_categoria = {\n",
    "    \"carrinho de compras\": \"Supermercado\",\n",
    "    \"garfo e faca\": \"Restaurante\",\n",
    "    \"coração\": \"Saúde\",\n",
    "    \"ônibus ou carro\": \"Transporte\",\n",
    "    \"casa\": \"Casa\",\n",
    "    \"livro ou lápis\": \"Educação\",\n",
    "    \"cabo usb\": \"Eletrônicos\",\n",
    "    \"ferramenta ou engrenagem\": \"Serviços\",\n",
    "    \"bola, ingressos ou joystick\": \"Lazer\"\n",
    "}\n"
   ]
  },
  {
   "cell_type": "code",
   "execution_count": null,
   "metadata": {},
   "outputs": [],
   "source": [
    "# Função para interação com ChatGPT, delegando toda a categorização a ele\n",
    "def categorizar_transacao_com_chatgpt(titulo):\n",
    "    categorias_disponiveis = \", \".join(icone_para_categoria.values())\n",
    "    prompt = (f\"Dado o título de uma transação de fatura do cartão: '{titulo}', \"\n",
    "              f\"categorize a transação de acordo com as seguintes categorias: \"\n",
    "              f\"{categorias_disponiveis}. \"\n",
    "              f\"Responda apenas com a categoria mais apropriada, sem explicações adicionais.\")\n",
    "    \n",
    "    response = openai.Completion.create(\n",
    "        engine=\"gpt-4\",\n",
    "        prompt=prompt,\n",
    "        max_tokens=50,\n",
    "        temperature=0.3,\n",
    "    )\n",
    "    \n",
    "    return response.choices[0].text.strip()"
   ]
  },
  {
   "cell_type": "code",
   "execution_count": null,
   "metadata": {},
   "outputs": [],
   "source": [
    "# Função principal para extrair transações e categorizá-las com ChatGPT\n",
    "def extrair_e_categorizar_transacoes(pdf_path, output_csv_base):\n",
    "    transacoes = []\n",
    "    mes_fatura = \"\"\n",
    "\n",
    "    with pdfplumber.open(pdf_path) as pdf:\n",
    "        for page in pdf.pages:\n",
    "            text = page.extract_text()\n",
    "            if text:\n",
    "                linhas = text.split(\"\\n\")\n",
    "                for linha in linhas:\n",
    "                    if re.search(r\"FATURA.*\\b([A-Z]{3})\\b\", linha):\n",
    "                        mes_fatura = re.search(r\"FATURA.*\\b([A-Z]{3})\\b\", linha).group(1)\n",
    "                    match = re.search(r\"(\\d{2} [A-Z]{3}) (.+?) (R\\$ [-\\d.,]+)\", linha)\n",
    "                    if match:\n",
    "                        data, titulo, valor = match.groups()\n",
    "                        valor = float(valor.replace(\"R$\", \"\").replace(\",\", \".\"))\n",
    "                        \n",
    "                        # Categorização via ChatGPT\n",
    "                        categoria = categorizar_transacao_com_chatgpt(titulo)\n",
    "                        transacoes.append([data, categoria, titulo, valor])\n",
    "\n",
    "    df = pd.DataFrame(transacoes, columns=[\"Data\", \"Categoria\", \"Título\", \"Valor\"])\n",
    "    \n",
    "    if mes_fatura:\n",
    "        output_csv = f\"{output_csv_base.replace('.csv', '')}_{mes_fatura}.csv\"\n",
    "    else:\n",
    "        output_csv = output_csv_base\n",
    "    \n",
    "    df.to_csv(output_csv, index=False, encoding=\"utf-8\")\n",
    "    print(f\"Arquivo CSV salvo em: {output_csv}\")\n",
    "\n",
    "# Exemplo de uso:\n",
    "# extrair_e_categorizar_transacoes(\"caminho/para/fatura.pdf\", \"transacoes_nubank.csv\")"
   ]
  }
 ],
 "metadata": {
  "kernelspec": {
   "display_name": "Lab03",
   "language": "python",
   "name": "python3"
  },
  "language_info": {
   "name": "python",
   "version": "3.6.8"
  }
 },
 "nbformat": 4,
 "nbformat_minor": 2
}
